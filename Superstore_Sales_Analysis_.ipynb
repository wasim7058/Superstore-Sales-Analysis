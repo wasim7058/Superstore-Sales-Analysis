{
  "cells": [
    {
      "cell_type": "markdown",
      "source": [
        "**Superstore Sales Analysis**"
      ],
      "metadata": {
        "id": "V6AuGTqqGVqR"
      },
      "id": "V6AuGTqqGVqR"
    },
    {
      "cell_type": "code",
      "source": [],
      "metadata": {
        "id": "0BpuEqrZGUtR"
      },
      "id": "0BpuEqrZGUtR",
      "execution_count": null,
      "outputs": []
    },
    {
      "cell_type": "code",
      "execution_count": 51,
      "metadata": {
        "id": "cRRUVQrYhgDu"
      },
      "outputs": [],
      "source": [
        "import pandas as pd\n",
        "import seaborn as sns\n",
        "import matplotlib.pyplot as plt"
      ],
      "id": "cRRUVQrYhgDu"
    },
    {
      "cell_type": "code",
      "execution_count": 52,
      "metadata": {
        "id": "zB4uHSq_hgDw"
      },
      "outputs": [],
      "source": [
        "import pandas as pd\n",
        "pd.set_option('display.float_format', lambda x: '%.3f' % x)"
      ],
      "id": "zB4uHSq_hgDw"
    },
    {
      "cell_type": "code",
      "execution_count": 53,
      "metadata": {
        "id": "-lUmTNoHhgDw"
      },
      "outputs": [],
      "source": [
        "import warnings\n",
        "warnings.filterwarnings('ignore')"
      ],
      "id": "-lUmTNoHhgDw"
    },
    {
      "cell_type": "markdown",
      "metadata": {
        "id": "lxT-vxcUhgDw"
      },
      "source": [
        "### Gather and clean the data"
      ],
      "id": "lxT-vxcUhgDw"
    },
    {
      "cell_type": "code",
      "execution_count": 54,
      "metadata": {
        "id": "o6SpmuiNhgDx"
      },
      "outputs": [],
      "source": [
        "data = pd.read_csv('/content/sample_data/superstore_dataset2011-2015.csv',encoding='ISO-8859-1')"
      ],
      "id": "o6SpmuiNhgDx"
    },
    {
      "cell_type": "markdown",
      "metadata": {
        "id": "Zyo-D_GEhgDx"
      },
      "source": [
        "### Explore the data"
      ],
      "id": "Zyo-D_GEhgDx"
    },
    {
      "cell_type": "markdown",
      "metadata": {
        "id": "_1I-BaJWhgDx"
      },
      "source": [
        "### 1. Display Top 5 Rows of The Dataset"
      ],
      "id": "_1I-BaJWhgDx"
    },
    {
      "cell_type": "code",
      "execution_count": 55,
      "metadata": {
        "colab": {
          "base_uri": "https://localhost:8080/",
          "height": 533
        },
        "id": "QEV2kWochgDx",
        "outputId": "83858be1-b679-40b1-a4d8-c067215df287"
      },
      "outputs": [
        {
          "output_type": "execute_result",
          "data": {
            "text/plain": [
              "   Row ID         Order ID Order Date Ship Date       Ship Mode Customer ID  \\\n",
              "0   42433     AG-2011-2040   1/1/2011  6/1/2011  Standard Class    TB-11280   \n",
              "1   22253    IN-2011-47883   1/1/2011  8/1/2011  Standard Class    JH-15985   \n",
              "2   48883     HU-2011-1220   1/1/2011  5/1/2011    Second Class      AT-735   \n",
              "3   11731  IT-2011-3647632   1/1/2011  5/1/2011    Second Class    EM-14140   \n",
              "4   22255    IN-2011-47883   1/1/2011  8/1/2011  Standard Class    JH-15985   \n",
              "\n",
              "     Customer Name      Segment         City            State  ...  \\\n",
              "0  Toby Braunhardt     Consumer  Constantine      Constantine  ...   \n",
              "1      Joseph Holt     Consumer  Wagga Wagga  New South Wales  ...   \n",
              "2    Annie Thurman     Consumer     Budapest         Budapest  ...   \n",
              "3     Eugene Moren  Home Office    Stockholm        Stockholm  ...   \n",
              "4      Joseph Holt     Consumer  Wagga Wagga  New South Wales  ...   \n",
              "\n",
              "         Product ID         Category Sub-Category  \\\n",
              "0  OFF-TEN-10000025  Office Supplies      Storage   \n",
              "1   OFF-SU-10000618  Office Supplies     Supplies   \n",
              "2  OFF-TEN-10001585  Office Supplies      Storage   \n",
              "3   OFF-PA-10001492  Office Supplies        Paper   \n",
              "4   FUR-FU-10003447        Furniture  Furnishings   \n",
              "\n",
              "                  Product Name   Sales Quantity Discount  Profit  \\\n",
              "0          Tenex Lockers, Blue 408.300        2    0.000 106.140   \n",
              "1     Acme Trimmer, High Speed 120.366        3    0.100  36.036   \n",
              "2      Tenex Box, Single Width  66.120        4    0.000  29.640   \n",
              "3  Enermax Note Cards, Premium  44.865        3    0.500 -26.055   \n",
              "4   Eldon Light Bulb, Duo Pack 113.670        5    0.100  37.770   \n",
              "\n",
              "   Shipping Cost  Order Priority  \n",
              "0         35.460          Medium  \n",
              "1          9.720          Medium  \n",
              "2          8.170            High  \n",
              "3          4.820            High  \n",
              "4          4.700          Medium  \n",
              "\n",
              "[5 rows x 24 columns]"
            ],
            "text/html": [
              "\n",
              "  <div id=\"df-427937bf-27f0-48cb-bd0b-3cb5f386d5ce\" class=\"colab-df-container\">\n",
              "    <div>\n",
              "<style scoped>\n",
              "    .dataframe tbody tr th:only-of-type {\n",
              "        vertical-align: middle;\n",
              "    }\n",
              "\n",
              "    .dataframe tbody tr th {\n",
              "        vertical-align: top;\n",
              "    }\n",
              "\n",
              "    .dataframe thead th {\n",
              "        text-align: right;\n",
              "    }\n",
              "</style>\n",
              "<table border=\"1\" class=\"dataframe\">\n",
              "  <thead>\n",
              "    <tr style=\"text-align: right;\">\n",
              "      <th></th>\n",
              "      <th>Row ID</th>\n",
              "      <th>Order ID</th>\n",
              "      <th>Order Date</th>\n",
              "      <th>Ship Date</th>\n",
              "      <th>Ship Mode</th>\n",
              "      <th>Customer ID</th>\n",
              "      <th>Customer Name</th>\n",
              "      <th>Segment</th>\n",
              "      <th>City</th>\n",
              "      <th>State</th>\n",
              "      <th>...</th>\n",
              "      <th>Product ID</th>\n",
              "      <th>Category</th>\n",
              "      <th>Sub-Category</th>\n",
              "      <th>Product Name</th>\n",
              "      <th>Sales</th>\n",
              "      <th>Quantity</th>\n",
              "      <th>Discount</th>\n",
              "      <th>Profit</th>\n",
              "      <th>Shipping Cost</th>\n",
              "      <th>Order Priority</th>\n",
              "    </tr>\n",
              "  </thead>\n",
              "  <tbody>\n",
              "    <tr>\n",
              "      <th>0</th>\n",
              "      <td>42433</td>\n",
              "      <td>AG-2011-2040</td>\n",
              "      <td>1/1/2011</td>\n",
              "      <td>6/1/2011</td>\n",
              "      <td>Standard Class</td>\n",
              "      <td>TB-11280</td>\n",
              "      <td>Toby Braunhardt</td>\n",
              "      <td>Consumer</td>\n",
              "      <td>Constantine</td>\n",
              "      <td>Constantine</td>\n",
              "      <td>...</td>\n",
              "      <td>OFF-TEN-10000025</td>\n",
              "      <td>Office Supplies</td>\n",
              "      <td>Storage</td>\n",
              "      <td>Tenex Lockers, Blue</td>\n",
              "      <td>408.300</td>\n",
              "      <td>2</td>\n",
              "      <td>0.000</td>\n",
              "      <td>106.140</td>\n",
              "      <td>35.460</td>\n",
              "      <td>Medium</td>\n",
              "    </tr>\n",
              "    <tr>\n",
              "      <th>1</th>\n",
              "      <td>22253</td>\n",
              "      <td>IN-2011-47883</td>\n",
              "      <td>1/1/2011</td>\n",
              "      <td>8/1/2011</td>\n",
              "      <td>Standard Class</td>\n",
              "      <td>JH-15985</td>\n",
              "      <td>Joseph Holt</td>\n",
              "      <td>Consumer</td>\n",
              "      <td>Wagga Wagga</td>\n",
              "      <td>New South Wales</td>\n",
              "      <td>...</td>\n",
              "      <td>OFF-SU-10000618</td>\n",
              "      <td>Office Supplies</td>\n",
              "      <td>Supplies</td>\n",
              "      <td>Acme Trimmer, High Speed</td>\n",
              "      <td>120.366</td>\n",
              "      <td>3</td>\n",
              "      <td>0.100</td>\n",
              "      <td>36.036</td>\n",
              "      <td>9.720</td>\n",
              "      <td>Medium</td>\n",
              "    </tr>\n",
              "    <tr>\n",
              "      <th>2</th>\n",
              "      <td>48883</td>\n",
              "      <td>HU-2011-1220</td>\n",
              "      <td>1/1/2011</td>\n",
              "      <td>5/1/2011</td>\n",
              "      <td>Second Class</td>\n",
              "      <td>AT-735</td>\n",
              "      <td>Annie Thurman</td>\n",
              "      <td>Consumer</td>\n",
              "      <td>Budapest</td>\n",
              "      <td>Budapest</td>\n",
              "      <td>...</td>\n",
              "      <td>OFF-TEN-10001585</td>\n",
              "      <td>Office Supplies</td>\n",
              "      <td>Storage</td>\n",
              "      <td>Tenex Box, Single Width</td>\n",
              "      <td>66.120</td>\n",
              "      <td>4</td>\n",
              "      <td>0.000</td>\n",
              "      <td>29.640</td>\n",
              "      <td>8.170</td>\n",
              "      <td>High</td>\n",
              "    </tr>\n",
              "    <tr>\n",
              "      <th>3</th>\n",
              "      <td>11731</td>\n",
              "      <td>IT-2011-3647632</td>\n",
              "      <td>1/1/2011</td>\n",
              "      <td>5/1/2011</td>\n",
              "      <td>Second Class</td>\n",
              "      <td>EM-14140</td>\n",
              "      <td>Eugene Moren</td>\n",
              "      <td>Home Office</td>\n",
              "      <td>Stockholm</td>\n",
              "      <td>Stockholm</td>\n",
              "      <td>...</td>\n",
              "      <td>OFF-PA-10001492</td>\n",
              "      <td>Office Supplies</td>\n",
              "      <td>Paper</td>\n",
              "      <td>Enermax Note Cards, Premium</td>\n",
              "      <td>44.865</td>\n",
              "      <td>3</td>\n",
              "      <td>0.500</td>\n",
              "      <td>-26.055</td>\n",
              "      <td>4.820</td>\n",
              "      <td>High</td>\n",
              "    </tr>\n",
              "    <tr>\n",
              "      <th>4</th>\n",
              "      <td>22255</td>\n",
              "      <td>IN-2011-47883</td>\n",
              "      <td>1/1/2011</td>\n",
              "      <td>8/1/2011</td>\n",
              "      <td>Standard Class</td>\n",
              "      <td>JH-15985</td>\n",
              "      <td>Joseph Holt</td>\n",
              "      <td>Consumer</td>\n",
              "      <td>Wagga Wagga</td>\n",
              "      <td>New South Wales</td>\n",
              "      <td>...</td>\n",
              "      <td>FUR-FU-10003447</td>\n",
              "      <td>Furniture</td>\n",
              "      <td>Furnishings</td>\n",
              "      <td>Eldon Light Bulb, Duo Pack</td>\n",
              "      <td>113.670</td>\n",
              "      <td>5</td>\n",
              "      <td>0.100</td>\n",
              "      <td>37.770</td>\n",
              "      <td>4.700</td>\n",
              "      <td>Medium</td>\n",
              "    </tr>\n",
              "  </tbody>\n",
              "</table>\n",
              "<p>5 rows × 24 columns</p>\n",
              "</div>\n",
              "    <div class=\"colab-df-buttons\">\n",
              "\n",
              "  <div class=\"colab-df-container\">\n",
              "    <button class=\"colab-df-convert\" onclick=\"convertToInteractive('df-427937bf-27f0-48cb-bd0b-3cb5f386d5ce')\"\n",
              "            title=\"Convert this dataframe to an interactive table.\"\n",
              "            style=\"display:none;\">\n",
              "\n",
              "  <svg xmlns=\"http://www.w3.org/2000/svg\" height=\"24px\" viewBox=\"0 -960 960 960\">\n",
              "    <path d=\"M120-120v-720h720v720H120Zm60-500h600v-160H180v160Zm220 220h160v-160H400v160Zm0 220h160v-160H400v160ZM180-400h160v-160H180v160Zm440 0h160v-160H620v160ZM180-180h160v-160H180v160Zm440 0h160v-160H620v160Z\"/>\n",
              "  </svg>\n",
              "    </button>\n",
              "\n",
              "  <style>\n",
              "    .colab-df-container {\n",
              "      display:flex;\n",
              "      gap: 12px;\n",
              "    }\n",
              "\n",
              "    .colab-df-convert {\n",
              "      background-color: #E8F0FE;\n",
              "      border: none;\n",
              "      border-radius: 50%;\n",
              "      cursor: pointer;\n",
              "      display: none;\n",
              "      fill: #1967D2;\n",
              "      height: 32px;\n",
              "      padding: 0 0 0 0;\n",
              "      width: 32px;\n",
              "    }\n",
              "\n",
              "    .colab-df-convert:hover {\n",
              "      background-color: #E2EBFA;\n",
              "      box-shadow: 0px 1px 2px rgba(60, 64, 67, 0.3), 0px 1px 3px 1px rgba(60, 64, 67, 0.15);\n",
              "      fill: #174EA6;\n",
              "    }\n",
              "\n",
              "    .colab-df-buttons div {\n",
              "      margin-bottom: 4px;\n",
              "    }\n",
              "\n",
              "    [theme=dark] .colab-df-convert {\n",
              "      background-color: #3B4455;\n",
              "      fill: #D2E3FC;\n",
              "    }\n",
              "\n",
              "    [theme=dark] .colab-df-convert:hover {\n",
              "      background-color: #434B5C;\n",
              "      box-shadow: 0px 1px 3px 1px rgba(0, 0, 0, 0.15);\n",
              "      filter: drop-shadow(0px 1px 2px rgba(0, 0, 0, 0.3));\n",
              "      fill: #FFFFFF;\n",
              "    }\n",
              "  </style>\n",
              "\n",
              "    <script>\n",
              "      const buttonEl =\n",
              "        document.querySelector('#df-427937bf-27f0-48cb-bd0b-3cb5f386d5ce button.colab-df-convert');\n",
              "      buttonEl.style.display =\n",
              "        google.colab.kernel.accessAllowed ? 'block' : 'none';\n",
              "\n",
              "      async function convertToInteractive(key) {\n",
              "        const element = document.querySelector('#df-427937bf-27f0-48cb-bd0b-3cb5f386d5ce');\n",
              "        const dataTable =\n",
              "          await google.colab.kernel.invokeFunction('convertToInteractive',\n",
              "                                                    [key], {});\n",
              "        if (!dataTable) return;\n",
              "\n",
              "        const docLinkHtml = 'Like what you see? Visit the ' +\n",
              "          '<a target=\"_blank\" href=https://colab.research.google.com/notebooks/data_table.ipynb>data table notebook</a>'\n",
              "          + ' to learn more about interactive tables.';\n",
              "        element.innerHTML = '';\n",
              "        dataTable['output_type'] = 'display_data';\n",
              "        await google.colab.output.renderOutput(dataTable, element);\n",
              "        const docLink = document.createElement('div');\n",
              "        docLink.innerHTML = docLinkHtml;\n",
              "        element.appendChild(docLink);\n",
              "      }\n",
              "    </script>\n",
              "  </div>\n",
              "\n",
              "\n",
              "<div id=\"df-ceffcbbc-9f49-4dc3-b600-39e5633d2e9e\">\n",
              "  <button class=\"colab-df-quickchart\" onclick=\"quickchart('df-ceffcbbc-9f49-4dc3-b600-39e5633d2e9e')\"\n",
              "            title=\"Suggest charts\"\n",
              "            style=\"display:none;\">\n",
              "\n",
              "<svg xmlns=\"http://www.w3.org/2000/svg\" height=\"24px\"viewBox=\"0 0 24 24\"\n",
              "     width=\"24px\">\n",
              "    <g>\n",
              "        <path d=\"M19 3H5c-1.1 0-2 .9-2 2v14c0 1.1.9 2 2 2h14c1.1 0 2-.9 2-2V5c0-1.1-.9-2-2-2zM9 17H7v-7h2v7zm4 0h-2V7h2v10zm4 0h-2v-4h2v4z\"/>\n",
              "    </g>\n",
              "</svg>\n",
              "  </button>\n",
              "\n",
              "<style>\n",
              "  .colab-df-quickchart {\n",
              "      --bg-color: #E8F0FE;\n",
              "      --fill-color: #1967D2;\n",
              "      --hover-bg-color: #E2EBFA;\n",
              "      --hover-fill-color: #174EA6;\n",
              "      --disabled-fill-color: #AAA;\n",
              "      --disabled-bg-color: #DDD;\n",
              "  }\n",
              "\n",
              "  [theme=dark] .colab-df-quickchart {\n",
              "      --bg-color: #3B4455;\n",
              "      --fill-color: #D2E3FC;\n",
              "      --hover-bg-color: #434B5C;\n",
              "      --hover-fill-color: #FFFFFF;\n",
              "      --disabled-bg-color: #3B4455;\n",
              "      --disabled-fill-color: #666;\n",
              "  }\n",
              "\n",
              "  .colab-df-quickchart {\n",
              "    background-color: var(--bg-color);\n",
              "    border: none;\n",
              "    border-radius: 50%;\n",
              "    cursor: pointer;\n",
              "    display: none;\n",
              "    fill: var(--fill-color);\n",
              "    height: 32px;\n",
              "    padding: 0;\n",
              "    width: 32px;\n",
              "  }\n",
              "\n",
              "  .colab-df-quickchart:hover {\n",
              "    background-color: var(--hover-bg-color);\n",
              "    box-shadow: 0 1px 2px rgba(60, 64, 67, 0.3), 0 1px 3px 1px rgba(60, 64, 67, 0.15);\n",
              "    fill: var(--button-hover-fill-color);\n",
              "  }\n",
              "\n",
              "  .colab-df-quickchart-complete:disabled,\n",
              "  .colab-df-quickchart-complete:disabled:hover {\n",
              "    background-color: var(--disabled-bg-color);\n",
              "    fill: var(--disabled-fill-color);\n",
              "    box-shadow: none;\n",
              "  }\n",
              "\n",
              "  .colab-df-spinner {\n",
              "    border: 2px solid var(--fill-color);\n",
              "    border-color: transparent;\n",
              "    border-bottom-color: var(--fill-color);\n",
              "    animation:\n",
              "      spin 1s steps(1) infinite;\n",
              "  }\n",
              "\n",
              "  @keyframes spin {\n",
              "    0% {\n",
              "      border-color: transparent;\n",
              "      border-bottom-color: var(--fill-color);\n",
              "      border-left-color: var(--fill-color);\n",
              "    }\n",
              "    20% {\n",
              "      border-color: transparent;\n",
              "      border-left-color: var(--fill-color);\n",
              "      border-top-color: var(--fill-color);\n",
              "    }\n",
              "    30% {\n",
              "      border-color: transparent;\n",
              "      border-left-color: var(--fill-color);\n",
              "      border-top-color: var(--fill-color);\n",
              "      border-right-color: var(--fill-color);\n",
              "    }\n",
              "    40% {\n",
              "      border-color: transparent;\n",
              "      border-right-color: var(--fill-color);\n",
              "      border-top-color: var(--fill-color);\n",
              "    }\n",
              "    60% {\n",
              "      border-color: transparent;\n",
              "      border-right-color: var(--fill-color);\n",
              "    }\n",
              "    80% {\n",
              "      border-color: transparent;\n",
              "      border-right-color: var(--fill-color);\n",
              "      border-bottom-color: var(--fill-color);\n",
              "    }\n",
              "    90% {\n",
              "      border-color: transparent;\n",
              "      border-bottom-color: var(--fill-color);\n",
              "    }\n",
              "  }\n",
              "</style>\n",
              "\n",
              "  <script>\n",
              "    async function quickchart(key) {\n",
              "      const quickchartButtonEl =\n",
              "        document.querySelector('#' + key + ' button');\n",
              "      quickchartButtonEl.disabled = true;  // To prevent multiple clicks.\n",
              "      quickchartButtonEl.classList.add('colab-df-spinner');\n",
              "      try {\n",
              "        const charts = await google.colab.kernel.invokeFunction(\n",
              "            'suggestCharts', [key], {});\n",
              "      } catch (error) {\n",
              "        console.error('Error during call to suggestCharts:', error);\n",
              "      }\n",
              "      quickchartButtonEl.classList.remove('colab-df-spinner');\n",
              "      quickchartButtonEl.classList.add('colab-df-quickchart-complete');\n",
              "    }\n",
              "    (() => {\n",
              "      let quickchartButtonEl =\n",
              "        document.querySelector('#df-ceffcbbc-9f49-4dc3-b600-39e5633d2e9e button');\n",
              "      quickchartButtonEl.style.display =\n",
              "        google.colab.kernel.accessAllowed ? 'block' : 'none';\n",
              "    })();\n",
              "  </script>\n",
              "</div>\n",
              "    </div>\n",
              "  </div>\n"
            ]
          },
          "metadata": {},
          "execution_count": 55
        }
      ],
      "source": [
        "data.head()"
      ],
      "id": "QEV2kWochgDx"
    },
    {
      "cell_type": "code",
      "execution_count": 56,
      "metadata": {
        "colab": {
          "base_uri": "https://localhost:8080/"
        },
        "id": "gk0dpoz5hgDy",
        "outputId": "ef0f64d7-7bdd-4f1b-e53b-73f0a385fb2c"
      },
      "outputs": [
        {
          "output_type": "execute_result",
          "data": {
            "text/plain": [
              "Index(['Row ID', 'Order ID', 'Order Date', 'Ship Date', 'Ship Mode',\n",
              "       'Customer ID', 'Customer Name', 'Segment', 'City', 'State', 'Country',\n",
              "       'Postal Code', 'Market', 'Region', 'Product ID', 'Category',\n",
              "       'Sub-Category', 'Product Name', 'Sales', 'Quantity', 'Discount',\n",
              "       'Profit', 'Shipping Cost', 'Order Priority'],\n",
              "      dtype='object')"
            ]
          },
          "metadata": {},
          "execution_count": 56
        }
      ],
      "source": [
        "data.columns"
      ],
      "id": "gk0dpoz5hgDy"
    },
    {
      "cell_type": "markdown",
      "metadata": {
        "id": "07rx9Q8KhgDy"
      },
      "source": [
        "### 2. Check The Last 5 Rows of The Dataset"
      ],
      "id": "07rx9Q8KhgDy"
    },
    {
      "cell_type": "code",
      "execution_count": 57,
      "metadata": {
        "colab": {
          "base_uri": "https://localhost:8080/",
          "height": 481
        },
        "id": "TjUTI1Q2hgDy",
        "outputId": "d188a87d-b949-4657-b0aa-4bfe15bd2658"
      },
      "outputs": [
        {
          "output_type": "execute_result",
          "data": {
            "text/plain": [
              "       Row ID        Order ID  Order Date Ship Date       Ship Mode  \\\n",
              "51285   32593  CA-2014-115427  31-12-2014  4/1/2015  Standard Class   \n",
              "51286   47594    MO-2014-2560  31-12-2014  5/1/2015  Standard Class   \n",
              "51287    8857  MX-2014-110527  31-12-2014  2/1/2015    Second Class   \n",
              "51288    6852  MX-2014-114783  31-12-2014  6/1/2015  Standard Class   \n",
              "51289   36388  CA-2014-156720  31-12-2014  4/1/2015  Standard Class   \n",
              "\n",
              "      Customer ID     Customer Name    Segment       City             State  \\\n",
              "51285    EB-13975        Erica Bern  Corporate  Fairfield        California   \n",
              "51286     LP-7095         Liz Preis   Consumer     Agadir  Souss-Massa-Draâ   \n",
              "51287    CM-12190  Charlotte Melton   Consumer    Managua           Managua   \n",
              "51288    TD-20995     Tamara Dahlen   Consumer     Juárez         Chihuahua   \n",
              "51289    JM-15580     Jill Matthias   Consumer   Loveland          Colorado   \n",
              "\n",
              "       ...        Product ID         Category Sub-Category  \\\n",
              "51285  ...   OFF-BI-10002103  Office Supplies      Binders   \n",
              "51286  ...  OFF-WIL-10001069  Office Supplies      Binders   \n",
              "51287  ...   OFF-LA-10004182  Office Supplies       Labels   \n",
              "51288  ...   OFF-LA-10000413  Office Supplies       Labels   \n",
              "51289  ...   OFF-FA-10003472  Office Supplies    Fasteners   \n",
              "\n",
              "                                          Product Name  Sales Quantity  \\\n",
              "51285  Cardinal Slant-D Ring Binder, Heavy Gauge Vinyl 13.904        2   \n",
              "51286          Wilson Jones Hole Reinforcements, Clear  3.990        1   \n",
              "51287           Hon Color Coded Labels, 5000 Label Set 26.400        3   \n",
              "51288           Hon Legal Exhibit Labels, Alphabetical  7.120        1   \n",
              "51289                              Bagged Rubber Bands  3.024        3   \n",
              "\n",
              "      Discount Profit  Shipping Cost  Order Priority  \n",
              "51285    0.200  4.519          0.890          Medium  \n",
              "51286    0.000  0.420          0.490          Medium  \n",
              "51287    0.000 12.360          0.350          Medium  \n",
              "51288    0.000  0.560          0.200          Medium  \n",
              "51289    0.200 -0.605          0.170          Medium  \n",
              "\n",
              "[5 rows x 24 columns]"
            ],
            "text/html": [
              "\n",
              "  <div id=\"df-64ae63c4-e45e-413a-aa17-76794cccbf48\" class=\"colab-df-container\">\n",
              "    <div>\n",
              "<style scoped>\n",
              "    .dataframe tbody tr th:only-of-type {\n",
              "        vertical-align: middle;\n",
              "    }\n",
              "\n",
              "    .dataframe tbody tr th {\n",
              "        vertical-align: top;\n",
              "    }\n",
              "\n",
              "    .dataframe thead th {\n",
              "        text-align: right;\n",
              "    }\n",
              "</style>\n",
              "<table border=\"1\" class=\"dataframe\">\n",
              "  <thead>\n",
              "    <tr style=\"text-align: right;\">\n",
              "      <th></th>\n",
              "      <th>Row ID</th>\n",
              "      <th>Order ID</th>\n",
              "      <th>Order Date</th>\n",
              "      <th>Ship Date</th>\n",
              "      <th>Ship Mode</th>\n",
              "      <th>Customer ID</th>\n",
              "      <th>Customer Name</th>\n",
              "      <th>Segment</th>\n",
              "      <th>City</th>\n",
              "      <th>State</th>\n",
              "      <th>...</th>\n",
              "      <th>Product ID</th>\n",
              "      <th>Category</th>\n",
              "      <th>Sub-Category</th>\n",
              "      <th>Product Name</th>\n",
              "      <th>Sales</th>\n",
              "      <th>Quantity</th>\n",
              "      <th>Discount</th>\n",
              "      <th>Profit</th>\n",
              "      <th>Shipping Cost</th>\n",
              "      <th>Order Priority</th>\n",
              "    </tr>\n",
              "  </thead>\n",
              "  <tbody>\n",
              "    <tr>\n",
              "      <th>51285</th>\n",
              "      <td>32593</td>\n",
              "      <td>CA-2014-115427</td>\n",
              "      <td>31-12-2014</td>\n",
              "      <td>4/1/2015</td>\n",
              "      <td>Standard Class</td>\n",
              "      <td>EB-13975</td>\n",
              "      <td>Erica Bern</td>\n",
              "      <td>Corporate</td>\n",
              "      <td>Fairfield</td>\n",
              "      <td>California</td>\n",
              "      <td>...</td>\n",
              "      <td>OFF-BI-10002103</td>\n",
              "      <td>Office Supplies</td>\n",
              "      <td>Binders</td>\n",
              "      <td>Cardinal Slant-D Ring Binder, Heavy Gauge Vinyl</td>\n",
              "      <td>13.904</td>\n",
              "      <td>2</td>\n",
              "      <td>0.200</td>\n",
              "      <td>4.519</td>\n",
              "      <td>0.890</td>\n",
              "      <td>Medium</td>\n",
              "    </tr>\n",
              "    <tr>\n",
              "      <th>51286</th>\n",
              "      <td>47594</td>\n",
              "      <td>MO-2014-2560</td>\n",
              "      <td>31-12-2014</td>\n",
              "      <td>5/1/2015</td>\n",
              "      <td>Standard Class</td>\n",
              "      <td>LP-7095</td>\n",
              "      <td>Liz Preis</td>\n",
              "      <td>Consumer</td>\n",
              "      <td>Agadir</td>\n",
              "      <td>Souss-Massa-Draâ</td>\n",
              "      <td>...</td>\n",
              "      <td>OFF-WIL-10001069</td>\n",
              "      <td>Office Supplies</td>\n",
              "      <td>Binders</td>\n",
              "      <td>Wilson Jones Hole Reinforcements, Clear</td>\n",
              "      <td>3.990</td>\n",
              "      <td>1</td>\n",
              "      <td>0.000</td>\n",
              "      <td>0.420</td>\n",
              "      <td>0.490</td>\n",
              "      <td>Medium</td>\n",
              "    </tr>\n",
              "    <tr>\n",
              "      <th>51287</th>\n",
              "      <td>8857</td>\n",
              "      <td>MX-2014-110527</td>\n",
              "      <td>31-12-2014</td>\n",
              "      <td>2/1/2015</td>\n",
              "      <td>Second Class</td>\n",
              "      <td>CM-12190</td>\n",
              "      <td>Charlotte Melton</td>\n",
              "      <td>Consumer</td>\n",
              "      <td>Managua</td>\n",
              "      <td>Managua</td>\n",
              "      <td>...</td>\n",
              "      <td>OFF-LA-10004182</td>\n",
              "      <td>Office Supplies</td>\n",
              "      <td>Labels</td>\n",
              "      <td>Hon Color Coded Labels, 5000 Label Set</td>\n",
              "      <td>26.400</td>\n",
              "      <td>3</td>\n",
              "      <td>0.000</td>\n",
              "      <td>12.360</td>\n",
              "      <td>0.350</td>\n",
              "      <td>Medium</td>\n",
              "    </tr>\n",
              "    <tr>\n",
              "      <th>51288</th>\n",
              "      <td>6852</td>\n",
              "      <td>MX-2014-114783</td>\n",
              "      <td>31-12-2014</td>\n",
              "      <td>6/1/2015</td>\n",
              "      <td>Standard Class</td>\n",
              "      <td>TD-20995</td>\n",
              "      <td>Tamara Dahlen</td>\n",
              "      <td>Consumer</td>\n",
              "      <td>Juárez</td>\n",
              "      <td>Chihuahua</td>\n",
              "      <td>...</td>\n",
              "      <td>OFF-LA-10000413</td>\n",
              "      <td>Office Supplies</td>\n",
              "      <td>Labels</td>\n",
              "      <td>Hon Legal Exhibit Labels, Alphabetical</td>\n",
              "      <td>7.120</td>\n",
              "      <td>1</td>\n",
              "      <td>0.000</td>\n",
              "      <td>0.560</td>\n",
              "      <td>0.200</td>\n",
              "      <td>Medium</td>\n",
              "    </tr>\n",
              "    <tr>\n",
              "      <th>51289</th>\n",
              "      <td>36388</td>\n",
              "      <td>CA-2014-156720</td>\n",
              "      <td>31-12-2014</td>\n",
              "      <td>4/1/2015</td>\n",
              "      <td>Standard Class</td>\n",
              "      <td>JM-15580</td>\n",
              "      <td>Jill Matthias</td>\n",
              "      <td>Consumer</td>\n",
              "      <td>Loveland</td>\n",
              "      <td>Colorado</td>\n",
              "      <td>...</td>\n",
              "      <td>OFF-FA-10003472</td>\n",
              "      <td>Office Supplies</td>\n",
              "      <td>Fasteners</td>\n",
              "      <td>Bagged Rubber Bands</td>\n",
              "      <td>3.024</td>\n",
              "      <td>3</td>\n",
              "      <td>0.200</td>\n",
              "      <td>-0.605</td>\n",
              "      <td>0.170</td>\n",
              "      <td>Medium</td>\n",
              "    </tr>\n",
              "  </tbody>\n",
              "</table>\n",
              "<p>5 rows × 24 columns</p>\n",
              "</div>\n",
              "    <div class=\"colab-df-buttons\">\n",
              "\n",
              "  <div class=\"colab-df-container\">\n",
              "    <button class=\"colab-df-convert\" onclick=\"convertToInteractive('df-64ae63c4-e45e-413a-aa17-76794cccbf48')\"\n",
              "            title=\"Convert this dataframe to an interactive table.\"\n",
              "            style=\"display:none;\">\n",
              "\n",
              "  <svg xmlns=\"http://www.w3.org/2000/svg\" height=\"24px\" viewBox=\"0 -960 960 960\">\n",
              "    <path d=\"M120-120v-720h720v720H120Zm60-500h600v-160H180v160Zm220 220h160v-160H400v160Zm0 220h160v-160H400v160ZM180-400h160v-160H180v160Zm440 0h160v-160H620v160ZM180-180h160v-160H180v160Zm440 0h160v-160H620v160Z\"/>\n",
              "  </svg>\n",
              "    </button>\n",
              "\n",
              "  <style>\n",
              "    .colab-df-container {\n",
              "      display:flex;\n",
              "      gap: 12px;\n",
              "    }\n",
              "\n",
              "    .colab-df-convert {\n",
              "      background-color: #E8F0FE;\n",
              "      border: none;\n",
              "      border-radius: 50%;\n",
              "      cursor: pointer;\n",
              "      display: none;\n",
              "      fill: #1967D2;\n",
              "      height: 32px;\n",
              "      padding: 0 0 0 0;\n",
              "      width: 32px;\n",
              "    }\n",
              "\n",
              "    .colab-df-convert:hover {\n",
              "      background-color: #E2EBFA;\n",
              "      box-shadow: 0px 1px 2px rgba(60, 64, 67, 0.3), 0px 1px 3px 1px rgba(60, 64, 67, 0.15);\n",
              "      fill: #174EA6;\n",
              "    }\n",
              "\n",
              "    .colab-df-buttons div {\n",
              "      margin-bottom: 4px;\n",
              "    }\n",
              "\n",
              "    [theme=dark] .colab-df-convert {\n",
              "      background-color: #3B4455;\n",
              "      fill: #D2E3FC;\n",
              "    }\n",
              "\n",
              "    [theme=dark] .colab-df-convert:hover {\n",
              "      background-color: #434B5C;\n",
              "      box-shadow: 0px 1px 3px 1px rgba(0, 0, 0, 0.15);\n",
              "      filter: drop-shadow(0px 1px 2px rgba(0, 0, 0, 0.3));\n",
              "      fill: #FFFFFF;\n",
              "    }\n",
              "  </style>\n",
              "\n",
              "    <script>\n",
              "      const buttonEl =\n",
              "        document.querySelector('#df-64ae63c4-e45e-413a-aa17-76794cccbf48 button.colab-df-convert');\n",
              "      buttonEl.style.display =\n",
              "        google.colab.kernel.accessAllowed ? 'block' : 'none';\n",
              "\n",
              "      async function convertToInteractive(key) {\n",
              "        const element = document.querySelector('#df-64ae63c4-e45e-413a-aa17-76794cccbf48');\n",
              "        const dataTable =\n",
              "          await google.colab.kernel.invokeFunction('convertToInteractive',\n",
              "                                                    [key], {});\n",
              "        if (!dataTable) return;\n",
              "\n",
              "        const docLinkHtml = 'Like what you see? Visit the ' +\n",
              "          '<a target=\"_blank\" href=https://colab.research.google.com/notebooks/data_table.ipynb>data table notebook</a>'\n",
              "          + ' to learn more about interactive tables.';\n",
              "        element.innerHTML = '';\n",
              "        dataTable['output_type'] = 'display_data';\n",
              "        await google.colab.output.renderOutput(dataTable, element);\n",
              "        const docLink = document.createElement('div');\n",
              "        docLink.innerHTML = docLinkHtml;\n",
              "        element.appendChild(docLink);\n",
              "      }\n",
              "    </script>\n",
              "  </div>\n",
              "\n",
              "\n",
              "<div id=\"df-073fa7ba-d782-4a68-9b54-7ce59411b3db\">\n",
              "  <button class=\"colab-df-quickchart\" onclick=\"quickchart('df-073fa7ba-d782-4a68-9b54-7ce59411b3db')\"\n",
              "            title=\"Suggest charts\"\n",
              "            style=\"display:none;\">\n",
              "\n",
              "<svg xmlns=\"http://www.w3.org/2000/svg\" height=\"24px\"viewBox=\"0 0 24 24\"\n",
              "     width=\"24px\">\n",
              "    <g>\n",
              "        <path d=\"M19 3H5c-1.1 0-2 .9-2 2v14c0 1.1.9 2 2 2h14c1.1 0 2-.9 2-2V5c0-1.1-.9-2-2-2zM9 17H7v-7h2v7zm4 0h-2V7h2v10zm4 0h-2v-4h2v4z\"/>\n",
              "    </g>\n",
              "</svg>\n",
              "  </button>\n",
              "\n",
              "<style>\n",
              "  .colab-df-quickchart {\n",
              "      --bg-color: #E8F0FE;\n",
              "      --fill-color: #1967D2;\n",
              "      --hover-bg-color: #E2EBFA;\n",
              "      --hover-fill-color: #174EA6;\n",
              "      --disabled-fill-color: #AAA;\n",
              "      --disabled-bg-color: #DDD;\n",
              "  }\n",
              "\n",
              "  [theme=dark] .colab-df-quickchart {\n",
              "      --bg-color: #3B4455;\n",
              "      --fill-color: #D2E3FC;\n",
              "      --hover-bg-color: #434B5C;\n",
              "      --hover-fill-color: #FFFFFF;\n",
              "      --disabled-bg-color: #3B4455;\n",
              "      --disabled-fill-color: #666;\n",
              "  }\n",
              "\n",
              "  .colab-df-quickchart {\n",
              "    background-color: var(--bg-color);\n",
              "    border: none;\n",
              "    border-radius: 50%;\n",
              "    cursor: pointer;\n",
              "    display: none;\n",
              "    fill: var(--fill-color);\n",
              "    height: 32px;\n",
              "    padding: 0;\n",
              "    width: 32px;\n",
              "  }\n",
              "\n",
              "  .colab-df-quickchart:hover {\n",
              "    background-color: var(--hover-bg-color);\n",
              "    box-shadow: 0 1px 2px rgba(60, 64, 67, 0.3), 0 1px 3px 1px rgba(60, 64, 67, 0.15);\n",
              "    fill: var(--button-hover-fill-color);\n",
              "  }\n",
              "\n",
              "  .colab-df-quickchart-complete:disabled,\n",
              "  .colab-df-quickchart-complete:disabled:hover {\n",
              "    background-color: var(--disabled-bg-color);\n",
              "    fill: var(--disabled-fill-color);\n",
              "    box-shadow: none;\n",
              "  }\n",
              "\n",
              "  .colab-df-spinner {\n",
              "    border: 2px solid var(--fill-color);\n",
              "    border-color: transparent;\n",
              "    border-bottom-color: var(--fill-color);\n",
              "    animation:\n",
              "      spin 1s steps(1) infinite;\n",
              "  }\n",
              "\n",
              "  @keyframes spin {\n",
              "    0% {\n",
              "      border-color: transparent;\n",
              "      border-bottom-color: var(--fill-color);\n",
              "      border-left-color: var(--fill-color);\n",
              "    }\n",
              "    20% {\n",
              "      border-color: transparent;\n",
              "      border-left-color: var(--fill-color);\n",
              "      border-top-color: var(--fill-color);\n",
              "    }\n",
              "    30% {\n",
              "      border-color: transparent;\n",
              "      border-left-color: var(--fill-color);\n",
              "      border-top-color: var(--fill-color);\n",
              "      border-right-color: var(--fill-color);\n",
              "    }\n",
              "    40% {\n",
              "      border-color: transparent;\n",
              "      border-right-color: var(--fill-color);\n",
              "      border-top-color: var(--fill-color);\n",
              "    }\n",
              "    60% {\n",
              "      border-color: transparent;\n",
              "      border-right-color: var(--fill-color);\n",
              "    }\n",
              "    80% {\n",
              "      border-color: transparent;\n",
              "      border-right-color: var(--fill-color);\n",
              "      border-bottom-color: var(--fill-color);\n",
              "    }\n",
              "    90% {\n",
              "      border-color: transparent;\n",
              "      border-bottom-color: var(--fill-color);\n",
              "    }\n",
              "  }\n",
              "</style>\n",
              "\n",
              "  <script>\n",
              "    async function quickchart(key) {\n",
              "      const quickchartButtonEl =\n",
              "        document.querySelector('#' + key + ' button');\n",
              "      quickchartButtonEl.disabled = true;  // To prevent multiple clicks.\n",
              "      quickchartButtonEl.classList.add('colab-df-spinner');\n",
              "      try {\n",
              "        const charts = await google.colab.kernel.invokeFunction(\n",
              "            'suggestCharts', [key], {});\n",
              "      } catch (error) {\n",
              "        console.error('Error during call to suggestCharts:', error);\n",
              "      }\n",
              "      quickchartButtonEl.classList.remove('colab-df-spinner');\n",
              "      quickchartButtonEl.classList.add('colab-df-quickchart-complete');\n",
              "    }\n",
              "    (() => {\n",
              "      let quickchartButtonEl =\n",
              "        document.querySelector('#df-073fa7ba-d782-4a68-9b54-7ce59411b3db button');\n",
              "      quickchartButtonEl.style.display =\n",
              "        google.colab.kernel.accessAllowed ? 'block' : 'none';\n",
              "    })();\n",
              "  </script>\n",
              "</div>\n",
              "    </div>\n",
              "  </div>\n"
            ]
          },
          "metadata": {},
          "execution_count": 57
        }
      ],
      "source": [
        "data.tail()"
      ],
      "id": "TjUTI1Q2hgDy"
    },
    {
      "cell_type": "markdown",
      "metadata": {
        "id": "ev2PTcXOhgDz"
      },
      "source": [
        "### 3. Find Shape of Our Dataset (Number of Rows And Number of Columns)"
      ],
      "id": "ev2PTcXOhgDz"
    },
    {
      "cell_type": "code",
      "execution_count": 58,
      "metadata": {
        "colab": {
          "base_uri": "https://localhost:8080/"
        },
        "id": "YMynxYuphgDz",
        "outputId": "44bb75f4-da99-4a40-bec1-e528ba0eca58"
      },
      "outputs": [
        {
          "output_type": "execute_result",
          "data": {
            "text/plain": [
              "(51290, 24)"
            ]
          },
          "metadata": {},
          "execution_count": 58
        }
      ],
      "source": [
        "data.shape"
      ],
      "id": "YMynxYuphgDz"
    },
    {
      "cell_type": "markdown",
      "metadata": {
        "id": "Uxza2np1hgDz"
      },
      "source": [
        "### 4.  Get Information About Our Dataset Like Total Number Rows, Total Number of Columns, Datatypes of Each Column And Memory Requirement"
      ],
      "id": "Uxza2np1hgDz"
    },
    {
      "cell_type": "code",
      "execution_count": 59,
      "metadata": {
        "colab": {
          "base_uri": "https://localhost:8080/"
        },
        "id": "sojPRZwShgDz",
        "outputId": "6f464c94-f6ef-4b22-aead-0791fbfd675d"
      },
      "outputs": [
        {
          "output_type": "stream",
          "name": "stdout",
          "text": [
            "<class 'pandas.core.frame.DataFrame'>\n",
            "RangeIndex: 51290 entries, 0 to 51289\n",
            "Data columns (total 24 columns):\n",
            " #   Column          Non-Null Count  Dtype  \n",
            "---  ------          --------------  -----  \n",
            " 0   Row ID          51290 non-null  int64  \n",
            " 1   Order ID        51290 non-null  object \n",
            " 2   Order Date      51290 non-null  object \n",
            " 3   Ship Date       51290 non-null  object \n",
            " 4   Ship Mode       51290 non-null  object \n",
            " 5   Customer ID     51290 non-null  object \n",
            " 6   Customer Name   51290 non-null  object \n",
            " 7   Segment         51290 non-null  object \n",
            " 8   City            51290 non-null  object \n",
            " 9   State           51290 non-null  object \n",
            " 10  Country         51290 non-null  object \n",
            " 11  Postal Code     9994 non-null   float64\n",
            " 12  Market          51290 non-null  object \n",
            " 13  Region          51290 non-null  object \n",
            " 14  Product ID      51290 non-null  object \n",
            " 15  Category        51290 non-null  object \n",
            " 16  Sub-Category    51290 non-null  object \n",
            " 17  Product Name    51290 non-null  object \n",
            " 18  Sales           51290 non-null  float64\n",
            " 19  Quantity        51290 non-null  int64  \n",
            " 20  Discount        51290 non-null  float64\n",
            " 21  Profit          51290 non-null  float64\n",
            " 22  Shipping Cost   51290 non-null  float64\n",
            " 23  Order Priority  51290 non-null  object \n",
            "dtypes: float64(5), int64(2), object(17)\n",
            "memory usage: 9.4+ MB\n"
          ]
        }
      ],
      "source": [
        "data.info()"
      ],
      "id": "sojPRZwShgDz"
    },
    {
      "cell_type": "markdown",
      "metadata": {
        "id": "2q0Ff4SphgDz"
      },
      "source": [
        "### 5. Check Null Values In The Dataset"
      ],
      "id": "2q0Ff4SphgDz"
    },
    {
      "cell_type": "code",
      "execution_count": 60,
      "metadata": {
        "colab": {
          "base_uri": "https://localhost:8080/"
        },
        "id": "H5zB_atyhgDz",
        "outputId": "2a8324dd-9bc1-46ba-d3e3-d7278e530c71"
      },
      "outputs": [
        {
          "output_type": "execute_result",
          "data": {
            "text/plain": [
              "Row ID                0\n",
              "Order ID              0\n",
              "Order Date            0\n",
              "Ship Date             0\n",
              "Ship Mode             0\n",
              "Customer ID           0\n",
              "Customer Name         0\n",
              "Segment               0\n",
              "City                  0\n",
              "State                 0\n",
              "Country               0\n",
              "Postal Code       41296\n",
              "Market                0\n",
              "Region                0\n",
              "Product ID            0\n",
              "Category              0\n",
              "Sub-Category          0\n",
              "Product Name          0\n",
              "Sales                 0\n",
              "Quantity              0\n",
              "Discount              0\n",
              "Profit                0\n",
              "Shipping Cost         0\n",
              "Order Priority        0\n",
              "dtype: int64"
            ]
          },
          "metadata": {},
          "execution_count": 60
        }
      ],
      "source": [
        "data.isnull().sum()"
      ],
      "id": "H5zB_atyhgDz"
    },
    {
      "cell_type": "markdown",
      "metadata": {
        "id": "FoWx3NGGhgD0"
      },
      "source": [
        "### 6. Check For Duplicate Data and Drop Them"
      ],
      "id": "FoWx3NGGhgD0"
    },
    {
      "cell_type": "code",
      "execution_count": 61,
      "metadata": {
        "colab": {
          "base_uri": "https://localhost:8080/"
        },
        "id": "ip_Ij8GdhgD0",
        "outputId": "09b227fb-1ca3-4427-e2ab-9e031f0899ff"
      },
      "outputs": [
        {
          "output_type": "execute_result",
          "data": {
            "text/plain": [
              "False"
            ]
          },
          "metadata": {},
          "execution_count": 61
        }
      ],
      "source": [
        "data.duplicated().any()"
      ],
      "id": "ip_Ij8GdhgD0"
    },
    {
      "cell_type": "markdown",
      "metadata": {
        "id": "iBHevlHShgD0"
      },
      "source": [
        "### 7 .Get Overall Statistics About The Dataset"
      ],
      "id": "iBHevlHShgD0"
    },
    {
      "cell_type": "code",
      "execution_count": 62,
      "metadata": {
        "colab": {
          "base_uri": "https://localhost:8080/",
          "height": 300
        },
        "id": "pwjKfDfWhgD0",
        "outputId": "26eed4f5-a51c-482c-bb3e-9cf457bd361c"
      },
      "outputs": [
        {
          "output_type": "execute_result",
          "data": {
            "text/plain": [
              "         Row ID  Postal Code     Sales  Quantity  Discount    Profit  \\\n",
              "count 51290.000     9994.000 51290.000 51290.000 51290.000 51290.000   \n",
              "mean  25645.500    55190.379   246.491     3.477     0.143    28.611   \n",
              "std   14806.292    32063.693   487.565     2.279     0.212   174.341   \n",
              "min       1.000     1040.000     0.444     1.000     0.000 -6599.978   \n",
              "25%   12823.250    23223.000    30.759     2.000     0.000     0.000   \n",
              "50%   25645.500    56430.500    85.053     3.000     0.000     9.240   \n",
              "75%   38467.750    90008.000   251.053     5.000     0.200    36.810   \n",
              "max   51290.000    99301.000 22638.480    14.000     0.850  8399.976   \n",
              "\n",
              "       Shipping Cost  \n",
              "count      51290.000  \n",
              "mean          26.376  \n",
              "std           57.297  \n",
              "min            0.000  \n",
              "25%            2.610  \n",
              "50%            7.790  \n",
              "75%           24.450  \n",
              "max          933.570  "
            ],
            "text/html": [
              "\n",
              "  <div id=\"df-9e73f118-18ee-4a09-9d9a-8a9eae174b3a\" class=\"colab-df-container\">\n",
              "    <div>\n",
              "<style scoped>\n",
              "    .dataframe tbody tr th:only-of-type {\n",
              "        vertical-align: middle;\n",
              "    }\n",
              "\n",
              "    .dataframe tbody tr th {\n",
              "        vertical-align: top;\n",
              "    }\n",
              "\n",
              "    .dataframe thead th {\n",
              "        text-align: right;\n",
              "    }\n",
              "</style>\n",
              "<table border=\"1\" class=\"dataframe\">\n",
              "  <thead>\n",
              "    <tr style=\"text-align: right;\">\n",
              "      <th></th>\n",
              "      <th>Row ID</th>\n",
              "      <th>Postal Code</th>\n",
              "      <th>Sales</th>\n",
              "      <th>Quantity</th>\n",
              "      <th>Discount</th>\n",
              "      <th>Profit</th>\n",
              "      <th>Shipping Cost</th>\n",
              "    </tr>\n",
              "  </thead>\n",
              "  <tbody>\n",
              "    <tr>\n",
              "      <th>count</th>\n",
              "      <td>51290.000</td>\n",
              "      <td>9994.000</td>\n",
              "      <td>51290.000</td>\n",
              "      <td>51290.000</td>\n",
              "      <td>51290.000</td>\n",
              "      <td>51290.000</td>\n",
              "      <td>51290.000</td>\n",
              "    </tr>\n",
              "    <tr>\n",
              "      <th>mean</th>\n",
              "      <td>25645.500</td>\n",
              "      <td>55190.379</td>\n",
              "      <td>246.491</td>\n",
              "      <td>3.477</td>\n",
              "      <td>0.143</td>\n",
              "      <td>28.611</td>\n",
              "      <td>26.376</td>\n",
              "    </tr>\n",
              "    <tr>\n",
              "      <th>std</th>\n",
              "      <td>14806.292</td>\n",
              "      <td>32063.693</td>\n",
              "      <td>487.565</td>\n",
              "      <td>2.279</td>\n",
              "      <td>0.212</td>\n",
              "      <td>174.341</td>\n",
              "      <td>57.297</td>\n",
              "    </tr>\n",
              "    <tr>\n",
              "      <th>min</th>\n",
              "      <td>1.000</td>\n",
              "      <td>1040.000</td>\n",
              "      <td>0.444</td>\n",
              "      <td>1.000</td>\n",
              "      <td>0.000</td>\n",
              "      <td>-6599.978</td>\n",
              "      <td>0.000</td>\n",
              "    </tr>\n",
              "    <tr>\n",
              "      <th>25%</th>\n",
              "      <td>12823.250</td>\n",
              "      <td>23223.000</td>\n",
              "      <td>30.759</td>\n",
              "      <td>2.000</td>\n",
              "      <td>0.000</td>\n",
              "      <td>0.000</td>\n",
              "      <td>2.610</td>\n",
              "    </tr>\n",
              "    <tr>\n",
              "      <th>50%</th>\n",
              "      <td>25645.500</td>\n",
              "      <td>56430.500</td>\n",
              "      <td>85.053</td>\n",
              "      <td>3.000</td>\n",
              "      <td>0.000</td>\n",
              "      <td>9.240</td>\n",
              "      <td>7.790</td>\n",
              "    </tr>\n",
              "    <tr>\n",
              "      <th>75%</th>\n",
              "      <td>38467.750</td>\n",
              "      <td>90008.000</td>\n",
              "      <td>251.053</td>\n",
              "      <td>5.000</td>\n",
              "      <td>0.200</td>\n",
              "      <td>36.810</td>\n",
              "      <td>24.450</td>\n",
              "    </tr>\n",
              "    <tr>\n",
              "      <th>max</th>\n",
              "      <td>51290.000</td>\n",
              "      <td>99301.000</td>\n",
              "      <td>22638.480</td>\n",
              "      <td>14.000</td>\n",
              "      <td>0.850</td>\n",
              "      <td>8399.976</td>\n",
              "      <td>933.570</td>\n",
              "    </tr>\n",
              "  </tbody>\n",
              "</table>\n",
              "</div>\n",
              "    <div class=\"colab-df-buttons\">\n",
              "\n",
              "  <div class=\"colab-df-container\">\n",
              "    <button class=\"colab-df-convert\" onclick=\"convertToInteractive('df-9e73f118-18ee-4a09-9d9a-8a9eae174b3a')\"\n",
              "            title=\"Convert this dataframe to an interactive table.\"\n",
              "            style=\"display:none;\">\n",
              "\n",
              "  <svg xmlns=\"http://www.w3.org/2000/svg\" height=\"24px\" viewBox=\"0 -960 960 960\">\n",
              "    <path d=\"M120-120v-720h720v720H120Zm60-500h600v-160H180v160Zm220 220h160v-160H400v160Zm0 220h160v-160H400v160ZM180-400h160v-160H180v160Zm440 0h160v-160H620v160ZM180-180h160v-160H180v160Zm440 0h160v-160H620v160Z\"/>\n",
              "  </svg>\n",
              "    </button>\n",
              "\n",
              "  <style>\n",
              "    .colab-df-container {\n",
              "      display:flex;\n",
              "      gap: 12px;\n",
              "    }\n",
              "\n",
              "    .colab-df-convert {\n",
              "      background-color: #E8F0FE;\n",
              "      border: none;\n",
              "      border-radius: 50%;\n",
              "      cursor: pointer;\n",
              "      display: none;\n",
              "      fill: #1967D2;\n",
              "      height: 32px;\n",
              "      padding: 0 0 0 0;\n",
              "      width: 32px;\n",
              "    }\n",
              "\n",
              "    .colab-df-convert:hover {\n",
              "      background-color: #E2EBFA;\n",
              "      box-shadow: 0px 1px 2px rgba(60, 64, 67, 0.3), 0px 1px 3px 1px rgba(60, 64, 67, 0.15);\n",
              "      fill: #174EA6;\n",
              "    }\n",
              "\n",
              "    .colab-df-buttons div {\n",
              "      margin-bottom: 4px;\n",
              "    }\n",
              "\n",
              "    [theme=dark] .colab-df-convert {\n",
              "      background-color: #3B4455;\n",
              "      fill: #D2E3FC;\n",
              "    }\n",
              "\n",
              "    [theme=dark] .colab-df-convert:hover {\n",
              "      background-color: #434B5C;\n",
              "      box-shadow: 0px 1px 3px 1px rgba(0, 0, 0, 0.15);\n",
              "      filter: drop-shadow(0px 1px 2px rgba(0, 0, 0, 0.3));\n",
              "      fill: #FFFFFF;\n",
              "    }\n",
              "  </style>\n",
              "\n",
              "    <script>\n",
              "      const buttonEl =\n",
              "        document.querySelector('#df-9e73f118-18ee-4a09-9d9a-8a9eae174b3a button.colab-df-convert');\n",
              "      buttonEl.style.display =\n",
              "        google.colab.kernel.accessAllowed ? 'block' : 'none';\n",
              "\n",
              "      async function convertToInteractive(key) {\n",
              "        const element = document.querySelector('#df-9e73f118-18ee-4a09-9d9a-8a9eae174b3a');\n",
              "        const dataTable =\n",
              "          await google.colab.kernel.invokeFunction('convertToInteractive',\n",
              "                                                    [key], {});\n",
              "        if (!dataTable) return;\n",
              "\n",
              "        const docLinkHtml = 'Like what you see? Visit the ' +\n",
              "          '<a target=\"_blank\" href=https://colab.research.google.com/notebooks/data_table.ipynb>data table notebook</a>'\n",
              "          + ' to learn more about interactive tables.';\n",
              "        element.innerHTML = '';\n",
              "        dataTable['output_type'] = 'display_data';\n",
              "        await google.colab.output.renderOutput(dataTable, element);\n",
              "        const docLink = document.createElement('div');\n",
              "        docLink.innerHTML = docLinkHtml;\n",
              "        element.appendChild(docLink);\n",
              "      }\n",
              "    </script>\n",
              "  </div>\n",
              "\n",
              "\n",
              "<div id=\"df-d21a3d98-3eef-4b99-bd25-02238cf94524\">\n",
              "  <button class=\"colab-df-quickchart\" onclick=\"quickchart('df-d21a3d98-3eef-4b99-bd25-02238cf94524')\"\n",
              "            title=\"Suggest charts\"\n",
              "            style=\"display:none;\">\n",
              "\n",
              "<svg xmlns=\"http://www.w3.org/2000/svg\" height=\"24px\"viewBox=\"0 0 24 24\"\n",
              "     width=\"24px\">\n",
              "    <g>\n",
              "        <path d=\"M19 3H5c-1.1 0-2 .9-2 2v14c0 1.1.9 2 2 2h14c1.1 0 2-.9 2-2V5c0-1.1-.9-2-2-2zM9 17H7v-7h2v7zm4 0h-2V7h2v10zm4 0h-2v-4h2v4z\"/>\n",
              "    </g>\n",
              "</svg>\n",
              "  </button>\n",
              "\n",
              "<style>\n",
              "  .colab-df-quickchart {\n",
              "      --bg-color: #E8F0FE;\n",
              "      --fill-color: #1967D2;\n",
              "      --hover-bg-color: #E2EBFA;\n",
              "      --hover-fill-color: #174EA6;\n",
              "      --disabled-fill-color: #AAA;\n",
              "      --disabled-bg-color: #DDD;\n",
              "  }\n",
              "\n",
              "  [theme=dark] .colab-df-quickchart {\n",
              "      --bg-color: #3B4455;\n",
              "      --fill-color: #D2E3FC;\n",
              "      --hover-bg-color: #434B5C;\n",
              "      --hover-fill-color: #FFFFFF;\n",
              "      --disabled-bg-color: #3B4455;\n",
              "      --disabled-fill-color: #666;\n",
              "  }\n",
              "\n",
              "  .colab-df-quickchart {\n",
              "    background-color: var(--bg-color);\n",
              "    border: none;\n",
              "    border-radius: 50%;\n",
              "    cursor: pointer;\n",
              "    display: none;\n",
              "    fill: var(--fill-color);\n",
              "    height: 32px;\n",
              "    padding: 0;\n",
              "    width: 32px;\n",
              "  }\n",
              "\n",
              "  .colab-df-quickchart:hover {\n",
              "    background-color: var(--hover-bg-color);\n",
              "    box-shadow: 0 1px 2px rgba(60, 64, 67, 0.3), 0 1px 3px 1px rgba(60, 64, 67, 0.15);\n",
              "    fill: var(--button-hover-fill-color);\n",
              "  }\n",
              "\n",
              "  .colab-df-quickchart-complete:disabled,\n",
              "  .colab-df-quickchart-complete:disabled:hover {\n",
              "    background-color: var(--disabled-bg-color);\n",
              "    fill: var(--disabled-fill-color);\n",
              "    box-shadow: none;\n",
              "  }\n",
              "\n",
              "  .colab-df-spinner {\n",
              "    border: 2px solid var(--fill-color);\n",
              "    border-color: transparent;\n",
              "    border-bottom-color: var(--fill-color);\n",
              "    animation:\n",
              "      spin 1s steps(1) infinite;\n",
              "  }\n",
              "\n",
              "  @keyframes spin {\n",
              "    0% {\n",
              "      border-color: transparent;\n",
              "      border-bottom-color: var(--fill-color);\n",
              "      border-left-color: var(--fill-color);\n",
              "    }\n",
              "    20% {\n",
              "      border-color: transparent;\n",
              "      border-left-color: var(--fill-color);\n",
              "      border-top-color: var(--fill-color);\n",
              "    }\n",
              "    30% {\n",
              "      border-color: transparent;\n",
              "      border-left-color: var(--fill-color);\n",
              "      border-top-color: var(--fill-color);\n",
              "      border-right-color: var(--fill-color);\n",
              "    }\n",
              "    40% {\n",
              "      border-color: transparent;\n",
              "      border-right-color: var(--fill-color);\n",
              "      border-top-color: var(--fill-color);\n",
              "    }\n",
              "    60% {\n",
              "      border-color: transparent;\n",
              "      border-right-color: var(--fill-color);\n",
              "    }\n",
              "    80% {\n",
              "      border-color: transparent;\n",
              "      border-right-color: var(--fill-color);\n",
              "      border-bottom-color: var(--fill-color);\n",
              "    }\n",
              "    90% {\n",
              "      border-color: transparent;\n",
              "      border-bottom-color: var(--fill-color);\n",
              "    }\n",
              "  }\n",
              "</style>\n",
              "\n",
              "  <script>\n",
              "    async function quickchart(key) {\n",
              "      const quickchartButtonEl =\n",
              "        document.querySelector('#' + key + ' button');\n",
              "      quickchartButtonEl.disabled = true;  // To prevent multiple clicks.\n",
              "      quickchartButtonEl.classList.add('colab-df-spinner');\n",
              "      try {\n",
              "        const charts = await google.colab.kernel.invokeFunction(\n",
              "            'suggestCharts', [key], {});\n",
              "      } catch (error) {\n",
              "        console.error('Error during call to suggestCharts:', error);\n",
              "      }\n",
              "      quickchartButtonEl.classList.remove('colab-df-spinner');\n",
              "      quickchartButtonEl.classList.add('colab-df-quickchart-complete');\n",
              "    }\n",
              "    (() => {\n",
              "      let quickchartButtonEl =\n",
              "        document.querySelector('#df-d21a3d98-3eef-4b99-bd25-02238cf94524 button');\n",
              "      quickchartButtonEl.style.display =\n",
              "        google.colab.kernel.accessAllowed ? 'block' : 'none';\n",
              "    })();\n",
              "  </script>\n",
              "</div>\n",
              "    </div>\n",
              "  </div>\n"
            ]
          },
          "metadata": {},
          "execution_count": 62
        }
      ],
      "source": [
        "data.describe()"
      ],
      "id": "pwjKfDfWhgD0"
    },
    {
      "cell_type": "markdown",
      "metadata": {
        "id": "4-pZXfDnhgD0"
      },
      "source": [
        "### 8. Drop unnecessary columns"
      ],
      "id": "4-pZXfDnhgD0"
    },
    {
      "cell_type": "code",
      "execution_count": 63,
      "metadata": {
        "colab": {
          "base_uri": "https://localhost:8080/"
        },
        "id": "Cp0Mt0gghgD0",
        "outputId": "8a1fb7d3-fa75-4ae2-db33-1b26c8b21971"
      },
      "outputs": [
        {
          "output_type": "execute_result",
          "data": {
            "text/plain": [
              "Index(['Row ID', 'Order ID', 'Order Date', 'Ship Date', 'Ship Mode',\n",
              "       'Customer ID', 'Customer Name', 'Segment', 'City', 'State', 'Country',\n",
              "       'Postal Code', 'Market', 'Region', 'Product ID', 'Category',\n",
              "       'Sub-Category', 'Product Name', 'Sales', 'Quantity', 'Discount',\n",
              "       'Profit', 'Shipping Cost', 'Order Priority'],\n",
              "      dtype='object')"
            ]
          },
          "metadata": {},
          "execution_count": 63
        }
      ],
      "source": [
        "data.columns"
      ],
      "id": "Cp0Mt0gghgD0"
    },
    {
      "cell_type": "code",
      "execution_count": 64,
      "metadata": {
        "id": "WkyrbTqehgD0"
      },
      "outputs": [],
      "source": [
        "data=data.drop(['Row ID', 'Order ID','Customer ID','Postal Code'],axis=1)"
      ],
      "id": "WkyrbTqehgD0"
    },
    {
      "cell_type": "code",
      "execution_count": 65,
      "metadata": {
        "colab": {
          "base_uri": "https://localhost:8080/"
        },
        "id": "9JUUuI-YhgD1",
        "outputId": "1acfbcb9-0f11-4215-8575-3b1875b4bfaf"
      },
      "outputs": [
        {
          "output_type": "execute_result",
          "data": {
            "text/plain": [
              "Index(['Order Date', 'Ship Date', 'Ship Mode', 'Customer Name', 'Segment',\n",
              "       'City', 'State', 'Country', 'Market', 'Region', 'Product ID',\n",
              "       'Category', 'Sub-Category', 'Product Name', 'Sales', 'Quantity',\n",
              "       'Discount', 'Profit', 'Shipping Cost', 'Order Priority'],\n",
              "      dtype='object')"
            ]
          },
          "metadata": {},
          "execution_count": 65
        }
      ],
      "source": [
        "data.columns"
      ],
      "id": "9JUUuI-YhgD1"
    },
    {
      "cell_type": "code",
      "execution_count": 66,
      "metadata": {
        "id": "zZD5cCpyhgD1"
      },
      "outputs": [],
      "source": [
        "# Hypothesis 1: Technology products have the highest profit margin compared to other product categories.\n",
        "# Hypothesis 2: The East region has the highest sales compared to other regions.\n",
        "# Hypothesis 3: Sales are higher during certain months of the year.\n",
        "# Hypothesis 4: Orders with same-day shipping have the lowest rate of returned products.\n",
        "# Hypothesis 5: The company's profit is more on weekdays than on weekends."
      ],
      "id": "zZD5cCpyhgD1"
    },
    {
      "cell_type": "markdown",
      "metadata": {
        "id": "-3ew4aj5hgD1"
      },
      "source": [
        "### Hypothesis 1: Technology products have the highest profit margin compared to other product categories."
      ],
      "id": "-3ew4aj5hgD1"
    },
    {
      "cell_type": "code",
      "execution_count": 67,
      "metadata": {
        "colab": {
          "base_uri": "https://localhost:8080/"
        },
        "id": "p2Qhiqt_hgD1",
        "outputId": "7f26d4f9-eb2d-4d04-9c36-1d1852aaa471"
      },
      "outputs": [
        {
          "output_type": "execute_result",
          "data": {
            "text/plain": [
              "Index(['Order Date', 'Ship Date', 'Ship Mode', 'Customer Name', 'Segment',\n",
              "       'City', 'State', 'Country', 'Market', 'Region', 'Product ID',\n",
              "       'Category', 'Sub-Category', 'Product Name', 'Sales', 'Quantity',\n",
              "       'Discount', 'Profit', 'Shipping Cost', 'Order Priority'],\n",
              "      dtype='object')"
            ]
          },
          "metadata": {},
          "execution_count": 67
        }
      ],
      "source": [
        "data.columns"
      ],
      "id": "p2Qhiqt_hgD1"
    },
    {
      "cell_type": "code",
      "execution_count": 68,
      "metadata": {
        "colab": {
          "base_uri": "https://localhost:8080/",
          "height": 562
        },
        "id": "Zjmj7S-_hgD1",
        "outputId": "54a7b7a8-8fd4-4bec-eee3-b93ce858fe13"
      },
      "outputs": [
        {
          "output_type": "display_data",
          "data": {
            "text/plain": [
              "<Figure size 640x480 with 1 Axes>"
            ],
            "image/png": "[encoded data removed]"
          },
          "metadata": {}
        }
      ],
      "source": [
        "cat_profit=data.groupby('Category')['Profit'].sum()\n",
        "cat_profit.plot(kind='bar')\n",
        "plt.title(\"Profit by Category\")\n",
        "plt.xlabel(\"Category\")\n",
        "plt.ylabel(\"Total Profit\")\n",
        "plt.show()\n",
        "# Conclusion : The hypothesis is supported as technology products have the\n",
        "# the highest profit margin of the three categories."
      ],
      "id": "Zjmj7S-_hgD1"
    },
    {
      "cell_type": "markdown",
      "metadata": {
        "id": "Pa6B3z_LhgD1"
      },
      "source": [
        "### Hypothesis 2: The East region has the highest sales compared to other regions."
      ],
      "id": "Pa6B3z_LhgD1"
    },
    {
      "cell_type": "code",
      "execution_count": 69,
      "metadata": {
        "colab": {
          "base_uri": "https://localhost:8080/"
        },
        "id": "P_GfUF8ChgD2",
        "outputId": "197c4fc8-b99f-4a7e-f940-89f7e357759c"
      },
      "outputs": [
        {
          "output_type": "execute_result",
          "data": {
            "text/plain": [
              "Index(['Order Date', 'Ship Date', 'Ship Mode', 'Customer Name', 'Segment',\n",
              "       'City', 'State', 'Country', 'Market', 'Region', 'Product ID',\n",
              "       'Category', 'Sub-Category', 'Product Name', 'Sales', 'Quantity',\n",
              "       'Discount', 'Profit', 'Shipping Cost', 'Order Priority'],\n",
              "      dtype='object')"
            ]
          },
          "metadata": {},
          "execution_count": 69
        }
      ],
      "source": [
        "data.columns"
      ],
      "id": "P_GfUF8ChgD2"
    },
    {
      "cell_type": "code",
      "execution_count": 70,
      "metadata": {
        "colab": {
          "base_uri": "https://localhost:8080/",
          "height": 561
        },
        "id": "upQIoykghgD2",
        "outputId": "ebbee94f-82bc-4a7e-ba08-3d130fbbb791"
      },
      "outputs": [
        {
          "output_type": "display_data",
          "data": {
            "text/plain": [
              "<Figure size 640x480 with 1 Axes>"
            ],
            "image/png": "[encoded data removed]"
          },
          "metadata": {}
        }
      ],
      "source": [
        "reg_sales=data.groupby('Region')['Sales'].sum()\n",
        "reg_sales.plot(kind=\"bar\")\n",
        "plt.title(\"Total Sales by Region\")\n",
        "plt.xlabel(\"Region\")\n",
        "plt.ylabel(\"Total Sales\")\n",
        "plt.show()\n",
        "# conclusion: The hypothesis is not supported as the central region has\n",
        "# the highest sales."
      ],
      "id": "upQIoykghgD2"
    },
    {
      "cell_type": "markdown",
      "metadata": {
        "id": "hwbdf7NshgD2"
      },
      "source": [
        "### Hypothesis 3: Sales are higher during certain months of the year."
      ],
      "id": "hwbdf7NshgD2"
    },
    {
      "cell_type": "code",
      "execution_count": 71,
      "metadata": {
        "colab": {
          "base_uri": "https://localhost:8080/"
        },
        "id": "vJDFT3orhgD2",
        "outputId": "5b7f2634-7b66-4e95-d535-02659fd59698"
      },
      "outputs": [
        {
          "output_type": "execute_result",
          "data": {
            "text/plain": [
              "Index(['Order Date', 'Ship Date', 'Ship Mode', 'Customer Name', 'Segment',\n",
              "       'City', 'State', 'Country', 'Market', 'Region', 'Product ID',\n",
              "       'Category', 'Sub-Category', 'Product Name', 'Sales', 'Quantity',\n",
              "       'Discount', 'Profit', 'Shipping Cost', 'Order Priority'],\n",
              "      dtype='object')"
            ]
          },
          "metadata": {},
          "execution_count": 71
        }
      ],
      "source": [
        "data.columns"
      ],
      "id": "vJDFT3orhgD2"
    },
    {
      "cell_type": "code",
      "execution_count": 72,
      "metadata": {
        "colab": {
          "base_uri": "https://localhost:8080/",
          "height": 472
        },
        "id": "wKWF2YR9hgD2",
        "outputId": "529da306-b653-4a48-a39d-e0d528358935"
      },
      "outputs": [
        {
          "output_type": "display_data",
          "data": {
            "text/plain": [
              "<Figure size 640x480 with 1 Axes>"
            ],
            "image/png": "[encoded data removed]"
          },
          "metadata": {}
        }
      ],
      "source": [
        "data['Order Month']=pd.DatetimeIndex(data['Order Date']).month\n",
        "\n",
        "month_sales=data.groupby('Order Month')['Sales'].sum()\n",
        "month_sales.plot(kind='line')\n",
        "plt.title(\"Total Sales by Month\")\n",
        "plt.xlabel(\"Month\")\n",
        "plt.ylabel(\"Total Sales\")\n",
        "plt.show()\n",
        "# conclusion : Our Hypothesis is supported as sales are higher\n",
        "# during certain months of the year."
      ],
      "id": "wKWF2YR9hgD2"
    },
    {
      "cell_type": "markdown",
      "metadata": {
        "id": "ed4ishFPhgD2"
      },
      "source": [
        "### Hypothesis 4: Orders with same-day shipping have the lowest rate of returned products."
      ],
      "id": "ed4ishFPhgD2"
    },
    {
      "cell_type": "code",
      "execution_count": 73,
      "metadata": {
        "colab": {
          "base_uri": "https://localhost:8080/"
        },
        "id": "h8vZmxkdhgD2",
        "outputId": "a0d89e93-9dbe-4a5b-81dd-5f7ece3827bf"
      },
      "outputs": [
        {
          "output_type": "execute_result",
          "data": {
            "text/plain": [
              "Index(['Order Date', 'Ship Date', 'Ship Mode', 'Customer Name', 'Segment',\n",
              "       'City', 'State', 'Country', 'Market', 'Region', 'Product ID',\n",
              "       'Category', 'Sub-Category', 'Product Name', 'Sales', 'Quantity',\n",
              "       'Discount', 'Profit', 'Shipping Cost', 'Order Priority', 'Order Month'],\n",
              "      dtype='object')"
            ]
          },
          "metadata": {},
          "execution_count": 73
        }
      ],
      "source": [
        "data.columns"
      ],
      "id": "h8vZmxkdhgD2"
    },
    {
      "cell_type": "code",
      "execution_count": 74,
      "metadata": {
        "colab": {
          "base_uri": "https://localhost:8080/",
          "height": 666
        },
        "id": "nvK6-OyYhgD3",
        "outputId": "a7dca81c-be2f-48a5-c2d9-c2691f5028ee"
      },
      "outputs": [
        {
          "output_type": "stream",
          "name": "stdout",
          "text": [
            "Ship Mode\n",
            "First Class      25.077\n",
            "Same Day         23.917\n",
            "Second Class     24.076\n",
            "Standard Class   24.481\n",
            "dtype: float64\n"
          ]
        },
        {
          "output_type": "display_data",
          "data": {
            "text/plain": [
              "<Figure size 640x480 with 1 Axes>"
            ],
            "image/png": "[encoded data removed]"
          },
          "metadata": {}
        }
      ],
      "source": [
        "total_orders_by_shipping_mode=data.groupby('Ship Mode').size()\n",
        "\n",
        "returned_orders_by_shipping_mode=data[data['Profit']<0].groupby('Ship Mode').size()\n",
        "\n",
        "returned_per_by_shipping_mode=(returned_orders_by_shipping_mode/total_orders_by_shipping_mode)*100\n",
        "print(returned_per_by_shipping_mode)\n",
        "returned_per_by_shipping_mode.plot(kind=\"bar\")\n",
        "plt.title(\"Return Per By Shipping Mode\")\n",
        "plt.xlabel(\"Shipping Mode\")\n",
        "plt.ylabel(\"Return Per\")\n",
        "plt.show()\n",
        "# Conclusion: The hypothesis is supported as orders with same-day\n",
        "# shipping have the lowest rate of returned products."
      ],
      "id": "nvK6-OyYhgD3"
    },
    {
      "cell_type": "markdown",
      "metadata": {
        "id": "lX6vouBnhgD3"
      },
      "source": [
        "### Hypothesis 5: The company's profit is more on weekdays than on weekends."
      ],
      "id": "lX6vouBnhgD3"
    },
    {
      "cell_type": "code",
      "execution_count": 75,
      "metadata": {
        "colab": {
          "base_uri": "https://localhost:8080/"
        },
        "id": "Rp6HF6zKhgEB",
        "outputId": "ea3b697c-049e-48e7-f003-6467aaff8d63"
      },
      "outputs": [
        {
          "output_type": "execute_result",
          "data": {
            "text/plain": [
              "Index(['Order Date', 'Ship Date', 'Ship Mode', 'Customer Name', 'Segment',\n",
              "       'City', 'State', 'Country', 'Market', 'Region', 'Product ID',\n",
              "       'Category', 'Sub-Category', 'Product Name', 'Sales', 'Quantity',\n",
              "       'Discount', 'Profit', 'Shipping Cost', 'Order Priority', 'Order Month'],\n",
              "      dtype='object')"
            ]
          },
          "metadata": {},
          "execution_count": 75
        }
      ],
      "source": [
        "data.columns"
      ],
      "id": "Rp6HF6zKhgEB"
    },
    {
      "cell_type": "code",
      "execution_count": 76,
      "metadata": {
        "colab": {
          "base_uri": "https://localhost:8080/",
          "height": 538
        },
        "id": "tGhCqoqGhgEC",
        "outputId": "db69bfdb-7422-4ca5-9304-14951ddeda6d"
      },
      "outputs": [
        {
          "output_type": "display_data",
          "data": {
            "text/plain": [
              "<Figure size 640x480 with 1 Axes>"
            ],
            "image/png": "[encoded data removed]"
          },
          "metadata": {}
        }
      ],
      "source": [
        "data['Order Day']=pd.DatetimeIndex(data['Order Date']).day_name()\n",
        "\n",
        "day_profit=data.groupby('Order Day')['Profit'].sum()\n",
        "day_profit.plot(kind=\"bar\")\n",
        "plt.title(\"Total Profit by the day of the week\")\n",
        "plt.xlabel(\"Day of the week\")\n",
        "plt.ylabel(\"Total Profit\")\n",
        "plt.show()\n",
        "# conclusion: The hypothesis is supported as company's profit\n",
        "# is higher on weekdays compared to weekends."
      ],
      "id": "tGhCqoqGhgEC"
    },
    {
      "cell_type": "code",
      "execution_count": 76,
      "metadata": {
        "id": "aatmFiCDhgEC"
      },
      "outputs": [],
      "source": [],
      "id": "aatmFiCDhgEC"
    },
    {
      "cell_type": "code",
      "execution_count": 76,
      "metadata": {
        "id": "jEXg5WJ6hgEC"
      },
      "outputs": [],
      "source": [],
      "id": "jEXg5WJ6hgEC"
    },
    {
      "cell_type": "code",
      "execution_count": 76,
      "metadata": {
        "id": "QdbYBKFUhgEC"
      },
      "outputs": [],
      "source": [],
      "id": "QdbYBKFUhgEC"
    },
    {
      "cell_type": "code",
      "execution_count": 76,
      "metadata": {
        "id": "tETDUYQwhgEC"
      },
      "outputs": [],
      "source": [],
      "id": "tETDUYQwhgEC"
    },
    {
      "cell_type": "code",
      "execution_count": 76,
      "metadata": {
        "id": "Ec9n73IjhgEC"
      },
      "outputs": [],
      "source": [],
      "id": "Ec9n73IjhgEC"
    }
  ],
  "metadata": {
    "kernelspec": {
      "display_name": "Python 3",
      "language": "python",
      "name": "python3"
    },
    "language_info": {
      "codemirror_mode": {
        "name": "ipython",
        "version": 3
      },
      "file_extension": ".py",
      "mimetype": "text/x-python",
      "name": "python",
      "nbconvert_exporter": "python",
      "pygments_lexer": "ipython3",
      "version": "3.7.9"
    },
    "colab": {
      "provenance": []
    }
  },
  "nbformat": 4,
  "nbformat_minor": 5
}